{
 "cells": [
  {
   "cell_type": "code",
   "execution_count": 1,
   "metadata": {},
   "outputs": [],
   "source": [
    "import requests\n",
    "import datetime\n",
    "import json\n",
    "\n",
    "def 시간변환(년: int, 월: int, 일: int, 시: int, 분):\n",
    "    input_time = datetime.datetime(년, 월, 일, 시, 분)\n",
    "    return input_time.strftime(\"%Y-%m-%dT%H:%M:%S%z+09:00\")"
   ]
  },
  {
   "cell_type": "markdown",
   "metadata": {},
   "source": [
    "# 상품생성 프로세스에 필요한 값 설정\n",
    "\n",
    "### 설정 값\n",
    "- 환경 (dev, test)\n",
    "- 이메일, 비밀번호\n",
    "- 클래스 아이디\n",
    "- 수강기간\n",
    "- 정가, 할인가\n",
    "- 시작시간, 종료시간\n",
    "- 상품상태( 공개, 비공개 )"
   ]
  },
  {
   "cell_type": "code",
   "execution_count": 2,
   "metadata": {},
   "outputs": [],
   "source": [
    "환경 = \"dev\"\n",
    "\n",
    "이메일, 비밀번호 = \"taekyun@quriously.com\", \"xordbs224!\"\n",
    "\n",
    "클래스아이디 = 417\n",
    "\n",
    "# 수강 기간은 일단 일 단위로 기재하셔야 합니다.\n",
    "수강기간 = 211\n",
    "정가, 할인가 = 1000000, 700000\n",
    "\n",
    "# 시작시간은 무조건 필수! 한국 시간으로 기재하셔야 합니다.\n",
    "# 종료 시간이 필요하면 시작 시간과 동일한 형태로 진행하면 됩니다.\n",
    "# ex) 시작시간, 종료시간 = 시간_변환(년=2023, 월=7, 일=12, 시=12, 분=0), None\n",
    "# ex) 시작시간, 종료시간 = 시간변환(년=2023, 월=7, 일=12, 시=12, 분=0), 시간변환(년=2023, 월=8, 일=12, 시=12, 분=0)\n",
    "시작시간, 종료시간 = 시간변환(년=2023, 월=7, 일=12, 시=12, 분=0), None\n",
    "\n",
    "# 상태의 종류는 비공개(UNLISTED), 공개(LISTED)\n",
    "상품상태 = \"LISTED\""
   ]
  },
  {
   "cell_type": "markdown",
   "metadata": {},
   "source": [
    "# 초기 설정\n",
    "### 로그인 및 토큰 발행"
   ]
  },
  {
   "cell_type": "code",
   "execution_count": 3,
   "metadata": {},
   "outputs": [
    {
     "name": "stdout",
     "output_type": "stream",
     "text": [
      "로그인 및 토큰 발행 성공\n"
     ]
    }
   ],
   "source": [
    "account_login_url = f\"https://quriously-{환경}.airklass.biz/rest/account/login\"\n",
    "\n",
    "account_headers = {\"Authorization\": \"None\"}\n",
    "login_data = {\n",
    "    \"type\": \"EMAIL\",\n",
    "    \"value\": 이메일,\n",
    "    \"password\": 비밀번호,\n",
    "}\n",
    "response = requests.post(account_login_url, headers=account_headers, data=json.dumps(login_data))\n",
    "access_token = response.json().get(\"token\").get(\"access\")\n",
    "\n",
    "base_url = f\"https://quriously-{환경}.airklass.biz/rest/commerce\"\n",
    "headers = {\"Authorization\": f\"Qube-token {access_token}\"}\n",
    "\n",
    "print(\"로그인 및 토큰 발행 성공\")"
   ]
  },
  {
   "cell_type": "markdown",
   "metadata": {},
   "source": [
    "# 상품 생성"
   ]
  },
  {
   "cell_type": "code",
   "execution_count": 4,
   "metadata": {},
   "outputs": [
    {
     "name": "stdout",
     "output_type": "stream",
     "text": [
      "상품 생성 성공\n"
     ]
    }
   ],
   "source": [
    "path = \"/product/klass-ticket\"\n",
    "url = base_url + path\n",
    "\n",
    "data = {\"klassId\": 클래스아이디}\n",
    "\n",
    "response = requests.post(url, headers=headers, data=json.dumps(data))\n",
    "\n",
    "상품키 = None\n",
    "if response.status_code == 200:\n",
    "    상품키 = response.text\n",
    "elif response.status_code == 400:\n",
    "    response_data = response.json()\n",
    "    상품키 = response_data.get(\"data\").get(\"productKey\")\n",
    "else:\n",
    "    raise Exception(\"상품_생성_실패\")\n",
    "\n",
    "print(\"상품 생성 성공\")"
   ]
  },
  {
   "cell_type": "markdown",
   "metadata": {},
   "source": [
    "# 상품 아이템 생성"
   ]
  },
  {
   "cell_type": "code",
   "execution_count": 5,
   "metadata": {},
   "outputs": [
    {
     "name": "stdout",
     "output_type": "stream",
     "text": [
      "상품 아이템 생성 성공\n"
     ]
    }
   ],
   "source": [
    "path = f\"/product/{상품키}/option-group/_PERIOD/option-item\"\n",
    "url = base_url + path\n",
    "\n",
    "data = {\"label\": f\"{수강기간}일\", \"value\": f\"{수강기간}d\"}\n",
    "\n",
    "response = requests.post(url, headers=headers, data=json.dumps(data))\n",
    "response_data = response.json()\n",
    "\n",
    "옵션아이템키 = response_data.get(\"id\")\n",
    "\n",
    "print(\"상품 아이템 생성 성공\")"
   ]
  },
  {
   "cell_type": "markdown",
   "metadata": {},
   "source": [
    "# 상품 유형 생성"
   ]
  },
  {
   "cell_type": "code",
   "execution_count": 6,
   "metadata": {},
   "outputs": [
    {
     "name": "stdout",
     "output_type": "stream",
     "text": [
      "상품 유형 생성 성공\n"
     ]
    }
   ],
   "source": [
    "path = f\"/product/{상품키}/variant\"\n",
    "url = base_url + path\n",
    "\n",
    "data = {\"platform\": \"web\", \"optionIdMap\": {\"_PERIOD\": 옵션아이템키}}\n",
    "\n",
    "response = requests.post(url, headers=headers, data=json.dumps(data))\n",
    "if response.status_code != 200:\n",
    "    raise Exception(\"상품_유형_생성_실패\")\n",
    "상품유형키 = response.text\n",
    "\n",
    "print(\"상품 유형 생성 성공\")"
   ]
  },
  {
   "cell_type": "markdown",
   "metadata": {},
   "source": [
    "# 상품 유형 가격 생성"
   ]
  },
  {
   "cell_type": "code",
   "execution_count": 7,
   "metadata": {},
   "outputs": [
    {
     "name": "stdout",
     "output_type": "stream",
     "text": [
      "상품 유형 가격 생성 성공\n"
     ]
    }
   ],
   "source": [
    "path = f\"/product/{상품키}/variant/{상품유형키}/product-price\"\n",
    "url = base_url + path\n",
    "\n",
    "data = {\n",
    "    \"listPrice\": 정가,\n",
    "    \"salesPrice\": 할인가,\n",
    "    \"start\": 시작시간,\n",
    "    \"end\": 종료시간\n",
    "}\n",
    "\n",
    "response = requests.post(url, headers=headers, data=json.dumps(data))\n",
    "if response.status_code != 201:\n",
    "    raise Exception(\"상품_유형_가격_생성_실패\")\n",
    "\n",
    "print(\"상품 유형 가격 생성 성공\")"
   ]
  },
  {
   "cell_type": "markdown",
   "metadata": {},
   "source": [
    "# 상품의 상태 변경"
   ]
  },
  {
   "cell_type": "code",
   "execution_count": 8,
   "metadata": {},
   "outputs": [
    {
     "name": "stdout",
     "output_type": "stream",
     "text": [
      "상품의 상태 변경 성공\n"
     ]
    }
   ],
   "source": [
    "path = f\"/product/{상품키}/variant/{상품유형키}/status\"\n",
    "url = base_url + path\n",
    "\n",
    "data = {\"nextStatus\": 상품상태}\n",
    "response = requests.patch(url, headers=headers, data=json.dumps(data))\n",
    "if response.status_code != 200:\n",
    "    raise Exception(\"상품의_상태_변경_실패\")\n",
    "\n",
    "print(\"상품의 상태 변경 성공\")"
   ]
  }
 ],
 "metadata": {
  "kernelspec": {
   "display_name": "Python 3 (ipykernel)",
   "language": "python",
   "name": "python3"
  },
  "language_info": {
   "codemirror_mode": {
    "name": "ipython",
    "version": 3
   },
   "file_extension": ".py",
   "mimetype": "text/x-python",
   "name": "python",
   "nbconvert_exporter": "python",
   "pygments_lexer": "ipython3",
   "version": "3.10.10"
  }
 },
 "nbformat": 4,
 "nbformat_minor": 4
}
